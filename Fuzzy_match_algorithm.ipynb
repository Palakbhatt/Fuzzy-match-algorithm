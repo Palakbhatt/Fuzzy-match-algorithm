{
 "cells": [
  {
   "cell_type": "code",
   "execution_count": 1,
   "id": "d1b23e9f-e008-463b-9459-f81d0044ca7f",
   "metadata": {},
   "outputs": [],
   "source": [
    "def levdist(s, t):\n",
    "    '''function to calculate the\n",
    "    Levenshtein distance between\n",
    "    two strings in a recursive way'''\n",
    "    \n",
    "    if s == '':\n",
    "        return len(t)\n",
    "    if t == '':\n",
    "        return len(s)\n",
    "    if s[-1] == t[-1]:\n",
    "        cost = 0\n",
    "    else:\n",
    "        cost = 1\n",
    "       \n",
    "    dist = min([levdist(s[:-1], t)+1,\n",
    "               levdist(s, t[:-1])+1, \n",
    "               levdist(s[:-1], t[:-1]) + cost])\n",
    "\n",
    "    return dist"
   ]
  },
  {
   "cell_type": "code",
   "execution_count": 2,
   "id": "745b0403-f29d-46dd-9752-4f6123248431",
   "metadata": {},
   "outputs": [
    {
     "data": {
      "text/plain": [
       "3"
      ]
     },
     "execution_count": 2,
     "metadata": {},
     "output_type": "execute_result"
    }
   ],
   "source": [
    "levdist('irks', 'risk')"
   ]
  },
  {
   "cell_type": "code",
   "execution_count": 3,
   "id": "211227ac-9c25-48e2-b4df-db06965bac35",
   "metadata": {},
   "outputs": [
    {
     "name": "stdout",
     "output_type": "stream",
     "text": [
      "Levenshtein distance between  micrsft  and  microsoft corporation  is: 14\n",
      "time taken to calculate Levenshtein distance between  micrsft  and  microsoft corporation  is: 42.93 s\n"
     ]
    }
   ],
   "source": [
    "import time\n",
    "\n",
    "st = time.time()\n",
    "s1 = 'micrsft'\n",
    "s2 = 'microsoft corporation'\n",
    "print('Levenshtein distance between ',\n",
    "      f'{s1}', ' and ', f'{s2}', ' is:', levdist(s1, s2))\n",
    "et = time.time()\n",
    "print('time taken to calculate Levenshtein distance between ',\n",
    "      f'{s1}', ' and ', f'{s2}', ' is:', round(et-st, 2), 's')"
   ]
  },
  {
   "cell_type": "markdown",
   "id": "07292383-efd9-4690-9bf9-626c2bc57153",
   "metadata": {},
   "source": [
    "This is slow!\n",
    "Iterative computation using matrix improves the computation time"
   ]
  },
  {
   "cell_type": "code",
   "execution_count": 4,
   "id": "3d1d028b-64aa-442a-9725-c09567427f4e",
   "metadata": {},
   "outputs": [],
   "source": [
    "def iterative_levdist(s, t):\n",
    "    '''function to calculate the\n",
    "    Levenshtein distance between\n",
    "    two strings in an iterative way'''\n",
    "\n",
    "    rows = len(s)+1\n",
    "    cols = len(t)+1\n",
    "    dist = [[0 for x in range(cols)] for x in range(rows)]\n",
    "\n",
    "    # source prefixes can be transformed into empty strings \n",
    "    # by deletions:\n",
    "    for i in range(1, rows):\n",
    "        dist[i][0] = i\n",
    "\n",
    "    # target prefixes can be created from an empty source string\n",
    "    # by inserting the characters\n",
    "    for i in range(1, cols):\n",
    "        dist[0][i] = i\n",
    "        \n",
    "    for col in range(1, cols):\n",
    "        for row in range(1, rows):\n",
    "            if s[row-1] == t[col-1]:\n",
    "                cost = 0\n",
    "            else:\n",
    "                cost = 1\n",
    "            dist[row][col] = min(dist[row-1][col] + 1,      # deletion\n",
    "                                 dist[row][col-1] + 1,      # insertion\n",
    "                                 dist[row-1][col-1] + cost) # substitution\n",
    "\n",
    " \n",
    "    return dist[row][col]"
   ]
  },
  {
   "cell_type": "code",
   "execution_count": 5,
   "id": "f6971a6e-8b68-4c95-890d-3c8b7d7e99b8",
   "metadata": {},
   "outputs": [
    {
     "data": {
      "text/plain": [
       "3"
      ]
     },
     "execution_count": 5,
     "metadata": {},
     "output_type": "execute_result"
    }
   ],
   "source": [
    "iterative_levdist('irks', 'risk')"
   ]
  },
  {
   "cell_type": "code",
   "execution_count": 6,
   "id": "a624c744-f00b-41c5-bf90-67072c6d823e",
   "metadata": {},
   "outputs": [
    {
     "name": "stdout",
     "output_type": "stream",
     "text": [
      "Levenshtein distance between  micrsft  and  microsoft corporation  is: 14\n",
      "time taken to calculate Levenshtein distance between  micrsft  and  microsoft corporation  is: 0.0 s\n"
     ]
    }
   ],
   "source": [
    "st = time.time()\n",
    "s1 = 'micrsft'\n",
    "s2 = 'microsoft corporation'\n",
    "print('Levenshtein distance between ',\n",
    "      f'{s1}', ' and ', f'{s2}', ' is:', iterative_levdist(s1, s2))\n",
    "et = time.time()\n",
    "print('time taken to calculate Levenshtein distance between ',\n",
    "      f'{s1}', ' and ', f'{s2}', ' is:', round(et-st, 2), 's')"
   ]
  },
  {
   "cell_type": "markdown",
   "id": "6fcacffa-0f81-4098-b5d5-9142fdd19950",
   "metadata": {},
   "source": [
    "Damerau-Levenshtein Distance works similar to Levenshtein distance"
   ]
  },
  {
   "cell_type": "markdown",
   "id": "5873a9a3-74cf-4f5f-9e43-3b4aef08f4c1",
   "metadata": {},
   "source": [
    "To install jellyfish package, pip install jellyfish"
   ]
  },
  {
   "cell_type": "code",
   "execution_count": 7,
   "id": "87ee2644-c030-40fe-87dc-957fae57a6fb",
   "metadata": {},
   "outputs": [
    {
     "name": "stdout",
     "output_type": "stream",
     "text": [
      "Requirement already satisfied: jellyfish in c:\\users\\palak bhatt\\appdata\\roaming\\python\\python39\\site-packages (0.9.0)\n"
     ]
    }
   ],
   "source": [
    "!pip install jellyfish"
   ]
  },
  {
   "cell_type": "code",
   "execution_count": 8,
   "id": "df9d0a04-dfb5-446e-a479-4ce365c10f5e",
   "metadata": {},
   "outputs": [
    {
     "name": "stdout",
     "output_type": "stream",
     "text": [
      "Levenshtein distance is:  3\n",
      "Damerau-Levenshtein distance is:  2\n"
     ]
    }
   ],
   "source": [
    "import jellyfish\n",
    "\n",
    "print('Levenshtein distance is: ', jellyfish.levenshtein_distance('irks', 'risk'))\n",
    "print('Damerau-Levenshtein distance is: ', jellyfish.damerau_levenshtein_distance('irks', 'risk'))"
   ]
  },
  {
   "cell_type": "raw",
   "id": "4b2359cd-5a4a-48cf-87a3-edabc2297f36",
   "metadata": {},
   "source": [
    "BITAP ALGORITHM"
   ]
  },
  {
   "cell_type": "code",
   "execution_count": 9,
   "id": "4d6d7445-f29e-4d5d-a1a8-59fde5d7d834",
   "metadata": {},
   "outputs": [],
   "source": [
    "import sys\n",
    "\n",
    "def bitap_search(text, pattern):\n",
    "    \n",
    "    '''function to do a bit-ap search\n",
    "    using bit array\n",
    "    (this is python implementation of the\n",
    "    code in GeekforGeeks)'''\n",
    "    \n",
    "    len_pattern = len(pattern)\n",
    "    \n",
    "    #initializing the bit array to complement of 0\n",
    "    bit_array = [~0] * (sys.maxunicode)\n",
    "    \n",
    "    # R is a variable, initiliazing it to complement of 1\n",
    "    R = ~1\n",
    "    \n",
    "    # taking care of the edge cases\n",
    "    # when the pattern is absent\n",
    "    # or when the pattern is longer than the text\n",
    "    if len_pattern == 0:\n",
    "        return -1\n",
    "\n",
    "    if len_pattern > len(text):\n",
    "        print('Pattern too long!')\n",
    "        return -1\n",
    "\n",
    "    \n",
    "    for i in range(len_pattern):\n",
    "        bit_array[ord(pattern[i])] &= ~(1 << i)\n",
    "\n",
    "    for i in range(len(text)):\n",
    "        R |= bit_array[ord(text[i])]\n",
    "        R <<= 1;\n",
    "        if (R & (1 << len_pattern)) == 0:\n",
    "            return i - len_pattern + 1\n",
    "\n",
    "    return -1\n",
    "\n",
    "\n",
    "\n",
    "def findPattern(t, p):\n",
    "    text = list(t);\n",
    "    pattern = list(p);\n",
    "    index = bitap_search(text, pattern);\n",
    "    if index == -1:\n",
    "        print('No Match')\n",
    "    else:\n",
    "        print('Pattern found at index:', index)\n",
    "\n",
    "\n"
   ]
  },
  {
   "cell_type": "code",
   "execution_count": 10,
   "id": "e70ad970-0855-42f7-a0de-2c4aded07cfc",
   "metadata": {},
   "outputs": [
    {
     "name": "stdout",
     "output_type": "stream",
     "text": [
      "Pattern found at index: 8\n"
     ]
    }
   ],
   "source": [
    "text = 'womenwhocode'\n",
    "pattern = 'code'\n",
    "\n",
    "findPattern(text, pattern)"
   ]
  },
  {
   "cell_type": "code",
   "execution_count": 11,
   "id": "0def5f13-7f77-4e82-be6b-0a40fe4e4322",
   "metadata": {},
   "outputs": [
    {
     "name": "stdout",
     "output_type": "stream",
     "text": [
      "No Match\n"
     ]
    }
   ],
   "source": [
    "text = 'youareamazing'\n",
    "pattern = 'youareawesome'\n",
    "\n",
    "findPattern(text, pattern)"
   ]
  },
  {
   "cell_type": "markdown",
   "id": "ff602e05-239a-413f-a158-d73c3ec6221c",
   "metadata": {},
   "source": [
    "It is no match because there is no substring. "
   ]
  },
  {
   "cell_type": "markdown",
   "id": "0fd6d4f7-c5fc-40df-bda0-0488d3e852d3",
   "metadata": {},
   "source": [
    "N-GRAM ALGORITHM"
   ]
  },
  {
   "cell_type": "code",
   "execution_count": 12,
   "id": "126f0c90-3800-4ad5-89f9-62406491f01d",
   "metadata": {},
   "outputs": [],
   "source": [
    "from sklearn.feature_extraction.text import TfidfVectorizer\n",
    "\n",
    "corpus = ['company name is microsoft', 'company the name is Microsoft', \n",
    "          'company name mcrosft', 'the company is Microsft Co',\n",
    "         'company is Microsoft Corporation', 'the company is name microsoft Corp', \n",
    "          'company MCSFT CO name']\n",
    "\n",
    "clean_corpus = ['The company name is Microsoft Corporation']"
   ]
  },
  {
   "cell_type": "code",
   "execution_count": 13,
   "id": "ae85656c-4b38-46e3-a3dd-885dfa6b5512",
   "metadata": {},
   "outputs": [
    {
     "name": "stdout",
     "output_type": "stream",
     "text": [
      "['co', 'company', 'corp', 'corporation', 'is', 'mcrosft', 'mcsft', 'microsft', 'microsoft', 'name', 'the']\n"
     ]
    },
    {
     "name": "stderr",
     "output_type": "stream",
     "text": [
      "C:\\ProgramData\\Anaconda3\\lib\\site-packages\\sklearn\\utils\\deprecation.py:87: FutureWarning: Function get_feature_names is deprecated; get_feature_names is deprecated in 1.0 and will be removed in 1.2. Please use get_feature_names_out instead.\n",
      "  warnings.warn(msg, category=FutureWarning)\n"
     ]
    }
   ],
   "source": [
    "vect1 = TfidfVectorizer(analyzer='word', ngram_range=(1, 1))\n",
    "x = vect1.fit_transform(corpus)\n",
    "\n",
    "print(vect1.get_feature_names())"
   ]
  },
  {
   "cell_type": "code",
   "execution_count": 14,
   "id": "8f24d2e9-427c-43f0-8448-00466b061072",
   "metadata": {},
   "outputs": [
    {
     "name": "stdout",
     "output_type": "stream",
     "text": [
      "['company is microsft', 'company is microsoft', 'company is name', 'company mcsft co', 'company name is', 'company name mcrosft', 'company the name', 'is microsft co', 'is microsoft corporation', 'is name microsoft', 'mcsft co name', 'name is microsoft', 'name microsoft corp', 'the company is', 'the name is']\n"
     ]
    }
   ],
   "source": [
    "vect2 = TfidfVectorizer(analyzer='word', ngram_range=(3, 3))\n",
    "x = vect2.fit_transform(corpus)\n",
    "\n",
    "print(vect2.get_feature_names())"
   ]
  },
  {
   "cell_type": "code",
   "execution_count": 15,
   "id": "89f280ae-4983-42ea-bec1-01de18aaaee6",
   "metadata": {},
   "outputs": [
    {
     "name": "stdout",
     "output_type": "stream",
     "text": [
      "['co name', 'company is', 'company is microsft', 'company is microsft co', 'company is microsoft', 'company is microsoft corporation', 'company is name', 'company is name microsoft', 'company is name microsoft corp', 'company mcsft', 'company mcsft co', 'company mcsft co name', 'company name', 'company name is', 'company name is microsoft', 'company name mcrosft', 'company the', 'company the name', 'company the name is', 'company the name is microsoft', 'is microsft', 'is microsft co', 'is microsoft', 'is microsoft corporation', 'is name', 'is name microsoft', 'is name microsoft corp', 'mcsft co', 'mcsft co name', 'microsft co', 'microsoft corp', 'microsoft corporation', 'name is', 'name is microsoft', 'name mcrosft', 'name microsoft', 'name microsoft corp', 'the company', 'the company is', 'the company is microsft', 'the company is microsft co', 'the company is name', 'the company is name microsoft', 'the name', 'the name is', 'the name is microsoft']\n"
     ]
    }
   ],
   "source": [
    "vect3 = TfidfVectorizer(analyzer='word', ngram_range=(2, 5))\n",
    "x = vect3.fit_transform(corpus)\n",
    "\n",
    "print(vect3.get_feature_names())"
   ]
  },
  {
   "cell_type": "markdown",
   "id": "f0de1af4-9133-4b81-852c-104279e3b082",
   "metadata": {},
   "source": [
    "Let's implement on this example and compare with Levenshtein distance"
   ]
  },
  {
   "cell_type": "code",
   "execution_count": 16,
   "id": "0b3d4a39-ce5f-4b67-9415-705fe02834a5",
   "metadata": {},
   "outputs": [
    {
     "name": "stdout",
     "output_type": "stream",
     "text": [
      "Requirement already satisfied: fuzzy-match in c:\\users\\palak bhatt\\appdata\\roaming\\python\\python39\\site-packages (0.0.1)\n"
     ]
    }
   ],
   "source": [
    "!pip install fuzzy-match"
   ]
  },
  {
   "cell_type": "code",
   "execution_count": 17,
   "id": "1aade74e-26a3-4f76-bdc4-113ac5edb4a4",
   "metadata": {},
   "outputs": [],
   "source": [
    "import pandas as pd\n",
    "import itertools\n",
    "\n",
    "# for fuzzy matching\n",
    "from fuzzy_match import algorithims"
   ]
  },
  {
   "cell_type": "code",
   "execution_count": 18,
   "id": "2f29aff2-367b-45e4-ab61-8eb64dff7eae",
   "metadata": {},
   "outputs": [
    {
     "data": {
      "text/plain": [
       "[('company name is microsoft', 'The company name is Microsoft Corporation'),\n",
       " ('company the name is Microsoft',\n",
       "  'The company name is Microsoft Corporation'),\n",
       " ('company name mcrosft', 'The company name is Microsoft Corporation'),\n",
       " ('the company is Microsft Co', 'The company name is Microsoft Corporation'),\n",
       " ('company is Microsoft Corporation',\n",
       "  'The company name is Microsoft Corporation'),\n",
       " ('the company is name microsoft Corp',\n",
       "  'The company name is Microsoft Corporation'),\n",
       " ('company MCSFT CO name', 'The company name is Microsoft Corporation')]"
      ]
     },
     "execution_count": 18,
     "metadata": {},
     "output_type": "execute_result"
    }
   ],
   "source": [
    "# make a cartesian combination of the words in the corpus and the correct word\n",
    "\n",
    "cart_list = list(itertools.product(corpus, clean_corpus))\n",
    "cart_list"
   ]
  },
  {
   "cell_type": "code",
   "execution_count": 19,
   "id": "0dd8bc4c-47de-475f-b6db-9b5832811397",
   "metadata": {},
   "outputs": [],
   "source": [
    "def get_matches(lst):\n",
    "    \n",
    "    '''function to calculate the Levenshtein\n",
    "    distance, trigram match score and the cosine\n",
    "    similarity matches for the above example'''\n",
    "    \n",
    "    x, y, lscore, tscore, cscore = [], [], [], [], []\n",
    "\n",
    "    for i in range(len(lst)):\n",
    "        x.append(lst[i][0])\n",
    "        y.append(lst[i][1])\n",
    "        \n",
    "        lscore.append(round(algorithims.levenshtein(lst[i][0], lst[i][1]), 3))\n",
    "        tscore.append(round(algorithims.trigram(lst[i][0], lst[i][1]), 3))\n",
    "        cscore.append(round(algorithims.cosine(lst[i][0], lst[i][1]), 3))\n",
    "    \n",
    "    df = pd.DataFrame(list(zip(x, y, lscore, tscore, cscore)),\n",
    "                    columns = ['in_data', 'clean_data', 'lev_score', 'tri_score', 'cosine_score'])\n",
    "    \n",
    "    return df"
   ]
  },
  {
   "cell_type": "code",
   "execution_count": 20,
   "id": "7da3feb3-7ada-4498-a811-91ad31d8d52d",
   "metadata": {},
   "outputs": [
    {
     "data": {
      "text/html": [
       "<div>\n",
       "<style scoped>\n",
       "    .dataframe tbody tr th:only-of-type {\n",
       "        vertical-align: middle;\n",
       "    }\n",
       "\n",
       "    .dataframe tbody tr th {\n",
       "        vertical-align: top;\n",
       "    }\n",
       "\n",
       "    .dataframe thead th {\n",
       "        text-align: right;\n",
       "    }\n",
       "</style>\n",
       "<table border=\"1\" class=\"dataframe\">\n",
       "  <thead>\n",
       "    <tr style=\"text-align: right;\">\n",
       "      <th></th>\n",
       "      <th>in_data</th>\n",
       "      <th>clean_data</th>\n",
       "      <th>lev_score</th>\n",
       "      <th>tri_score</th>\n",
       "      <th>cosine_score</th>\n",
       "    </tr>\n",
       "  </thead>\n",
       "  <tbody>\n",
       "    <tr>\n",
       "      <th>0</th>\n",
       "      <td>company name is microsoft</td>\n",
       "      <td>The company name is Microsoft Corporation</td>\n",
       "      <td>0.585</td>\n",
       "      <td>0.650</td>\n",
       "      <td>0.612</td>\n",
       "    </tr>\n",
       "    <tr>\n",
       "      <th>1</th>\n",
       "      <td>company the name is Microsoft</td>\n",
       "      <td>The company name is Microsoft Corporation</td>\n",
       "      <td>0.512</td>\n",
       "      <td>0.750</td>\n",
       "      <td>0.730</td>\n",
       "    </tr>\n",
       "    <tr>\n",
       "      <th>2</th>\n",
       "      <td>company name mcrosft</td>\n",
       "      <td>The company name is Microsoft Corporation</td>\n",
       "      <td>0.463</td>\n",
       "      <td>0.386</td>\n",
       "      <td>0.471</td>\n",
       "    </tr>\n",
       "    <tr>\n",
       "      <th>3</th>\n",
       "      <td>the company is Microsft Co</td>\n",
       "      <td>The company name is Microsoft Corporation</td>\n",
       "      <td>0.610</td>\n",
       "      <td>0.512</td>\n",
       "      <td>0.365</td>\n",
       "    </tr>\n",
       "    <tr>\n",
       "      <th>4</th>\n",
       "      <td>company is Microsoft Corporation</td>\n",
       "      <td>The company name is Microsoft Corporation</td>\n",
       "      <td>0.780</td>\n",
       "      <td>0.775</td>\n",
       "      <td>0.816</td>\n",
       "    </tr>\n",
       "    <tr>\n",
       "      <th>5</th>\n",
       "      <td>the company is name microsoft Corp</td>\n",
       "      <td>The company name is Microsoft Corporation</td>\n",
       "      <td>0.634</td>\n",
       "      <td>0.780</td>\n",
       "      <td>0.500</td>\n",
       "    </tr>\n",
       "    <tr>\n",
       "      <th>6</th>\n",
       "      <td>company MCSFT CO name</td>\n",
       "      <td>The company name is Microsoft Corporation</td>\n",
       "      <td>0.293</td>\n",
       "      <td>0.333</td>\n",
       "      <td>0.408</td>\n",
       "    </tr>\n",
       "  </tbody>\n",
       "</table>\n",
       "</div>"
      ],
      "text/plain": [
       "                              in_data  \\\n",
       "0           company name is microsoft   \n",
       "1       company the name is Microsoft   \n",
       "2                company name mcrosft   \n",
       "3          the company is Microsft Co   \n",
       "4    company is Microsoft Corporation   \n",
       "5  the company is name microsoft Corp   \n",
       "6               company MCSFT CO name   \n",
       "\n",
       "                                  clean_data  lev_score  tri_score  \\\n",
       "0  The company name is Microsoft Corporation      0.585      0.650   \n",
       "1  The company name is Microsoft Corporation      0.512      0.750   \n",
       "2  The company name is Microsoft Corporation      0.463      0.386   \n",
       "3  The company name is Microsoft Corporation      0.610      0.512   \n",
       "4  The company name is Microsoft Corporation      0.780      0.775   \n",
       "5  The company name is Microsoft Corporation      0.634      0.780   \n",
       "6  The company name is Microsoft Corporation      0.293      0.333   \n",
       "\n",
       "   cosine_score  \n",
       "0         0.612  \n",
       "1         0.730  \n",
       "2         0.471  \n",
       "3         0.365  \n",
       "4         0.816  \n",
       "5         0.500  \n",
       "6         0.408  "
      ]
     },
     "execution_count": 20,
     "metadata": {},
     "output_type": "execute_result"
    }
   ],
   "source": [
    "get_matches(cart_list)"
   ]
  },
  {
   "cell_type": "markdown",
   "id": "aa5f67f7-539e-4b56-b04b-84204fd7d4b9",
   "metadata": {},
   "source": [
    "IMPLEMENTATION ON REAL DATA"
   ]
  },
  {
   "cell_type": "code",
   "execution_count": 21,
   "id": "b7a01fb7-54b8-4320-b78b-1dd8b96e3478",
   "metadata": {},
   "outputs": [
    {
     "name": "stdout",
     "output_type": "stream",
     "text": [
      "Requirement already satisfied: fuzzywuzzy in c:\\users\\palak bhatt\\appdata\\roaming\\python\\python39\\site-packages (0.18.0)\n"
     ]
    }
   ],
   "source": [
    "!pip install fuzzywuzzy"
   ]
  },
  {
   "cell_type": "code",
   "execution_count": 22,
   "id": "297889e5-f1a3-4b48-b1bd-dc178101de2f",
   "metadata": {},
   "outputs": [
    {
     "name": "stderr",
     "output_type": "stream",
     "text": [
      "C:\\Users\\PALAK BHATT\\AppData\\Roaming\\Python\\Python39\\site-packages\\fuzzywuzzy\\fuzz.py:11: UserWarning: Using slow pure-python SequenceMatcher. Install python-Levenshtein to remove this warning\n",
      "  warnings.warn('Using slow pure-python SequenceMatcher. Install python-Levenshtein to remove this warning')\n"
     ]
    }
   ],
   "source": [
    "from fuzzywuzzy import fuzz\n",
    "from fuzzywuzzy import process"
   ]
  },
  {
   "cell_type": "code",
   "execution_count": 23,
   "id": "f55de6e5-fbf1-48e2-b152-2e5ddfec81c8",
   "metadata": {},
   "outputs": [],
   "source": [
    "# import libraries\n",
    "import pandas as pd\n",
    "\n",
    "# this is for fuzzy matching\n",
    "from fuzzywuzzy import fuzz\n",
    "from fuzzy_match import algorithims"
   ]
  },
  {
   "cell_type": "code",
   "execution_count": 28,
   "id": "4a07fcbd-f3e8-4fb2-a94f-2d80b2354340",
   "metadata": {},
   "outputs": [],
   "source": [
    "data_df = pd.read_csv('D:\\\\room_type.csv')"
   ]
  },
  {
   "cell_type": "code",
   "execution_count": 29,
   "id": "84763043-1aeb-4eb9-93fc-768efb4af9fb",
   "metadata": {},
   "outputs": [
    {
     "data": {
      "text/html": [
       "<div>\n",
       "<style scoped>\n",
       "    .dataframe tbody tr th:only-of-type {\n",
       "        vertical-align: middle;\n",
       "    }\n",
       "\n",
       "    .dataframe tbody tr th {\n",
       "        vertical-align: top;\n",
       "    }\n",
       "\n",
       "    .dataframe thead th {\n",
       "        text-align: right;\n",
       "    }\n",
       "</style>\n",
       "<table border=\"1\" class=\"dataframe\">\n",
       "  <thead>\n",
       "    <tr style=\"text-align: right;\">\n",
       "      <th></th>\n",
       "      <th>Expedia</th>\n",
       "      <th>Booking.com</th>\n",
       "    </tr>\n",
       "  </thead>\n",
       "  <tbody>\n",
       "    <tr>\n",
       "      <th>0</th>\n",
       "      <td>Deluxe Room, 1 King Bed</td>\n",
       "      <td>Deluxe King Room</td>\n",
       "    </tr>\n",
       "    <tr>\n",
       "      <th>1</th>\n",
       "      <td>Standard Room, 1 King Bed, Accessible</td>\n",
       "      <td>Standard King Roll-in Shower Accessible</td>\n",
       "    </tr>\n",
       "    <tr>\n",
       "      <th>2</th>\n",
       "      <td>Grand Corner King Room, 1 King Bed</td>\n",
       "      <td>Grand Corner King Room</td>\n",
       "    </tr>\n",
       "    <tr>\n",
       "      <th>3</th>\n",
       "      <td>Suite, 1 King Bed (Parlor)</td>\n",
       "      <td>King Parlor Suite</td>\n",
       "    </tr>\n",
       "    <tr>\n",
       "      <th>4</th>\n",
       "      <td>High-Floor Premium Room, 1 King Bed</td>\n",
       "      <td>High-Floor Premium King Room</td>\n",
       "    </tr>\n",
       "  </tbody>\n",
       "</table>\n",
       "</div>"
      ],
      "text/plain": [
       "                                 Expedia  \\\n",
       "0                Deluxe Room, 1 King Bed   \n",
       "1  Standard Room, 1 King Bed, Accessible   \n",
       "2     Grand Corner King Room, 1 King Bed   \n",
       "3             Suite, 1 King Bed (Parlor)   \n",
       "4    High-Floor Premium Room, 1 King Bed   \n",
       "\n",
       "                               Booking.com  \n",
       "0                         Deluxe King Room  \n",
       "1  Standard King Roll-in Shower Accessible  \n",
       "2                   Grand Corner King Room  \n",
       "3                        King Parlor Suite  \n",
       "4             High-Floor Premium King Room  "
      ]
     },
     "execution_count": 29,
     "metadata": {},
     "output_type": "execute_result"
    }
   ],
   "source": [
    "data_df.head()"
   ]
  },
  {
   "cell_type": "markdown",
   "id": "459dfb84-7576-4b73-bebf-91b8c105a332",
   "metadata": {},
   "source": [
    "RATIO -Compares the entire string similarity"
   ]
  },
  {
   "cell_type": "code",
   "execution_count": 30,
   "id": "1b697a10-d85c-49b4-89ed-629e6509359a",
   "metadata": {},
   "outputs": [],
   "source": [
    "def get_ratio(row):\n",
    "    \n",
    "    '''function to compare the values in each row\n",
    "    for the two columns in the same dataframe and\n",
    "    return the ratio for the entire string similarity'''\n",
    "    \n",
    "    col1 = row['Expedia']\n",
    "    col2 = row['Booking.com']\n",
    "    \n",
    "    return fuzz.ratio(col1, col2)"
   ]
  },
  {
   "cell_type": "markdown",
   "id": "7b3fe2cd-c4f2-4f66-a709-82cf341d83cd",
   "metadata": {},
   "source": [
    "PARTIAL RATIO - Compares partial string similarity"
   ]
  },
  {
   "cell_type": "code",
   "execution_count": 31,
   "id": "08bf316e-8cef-468f-9a04-685dde8d83b5",
   "metadata": {},
   "outputs": [],
   "source": [
    "def get_partial_ratio(row):\n",
    "    \n",
    "    '''function to compare the values in each row\n",
    "    for the two columns in the same dataframeand\n",
    "    return the ratio for partial string similarity'''\n",
    "    \n",
    "    col1 = row['Expedia']\n",
    "    col2 = row['Booking.com']\n",
    "    \n",
    "    return fuzz.partial_ratio(col1, col2)"
   ]
  },
  {
   "cell_type": "markdown",
   "id": "d63a78ee-b347-462e-9d7a-46c6ed4a6edd",
   "metadata": {},
   "source": [
    "TOKEN SORT RATIO - Ignores word order"
   ]
  },
  {
   "cell_type": "code",
   "execution_count": 32,
   "id": "1985259d-1a1d-470b-9e9c-f8a1f9f493ab",
   "metadata": {},
   "outputs": [],
   "source": [
    "def get_token_sort_ratio(row):\n",
    "    \n",
    "    '''function to compare the values in each row\n",
    "    for the two columns in the same dataframeand\n",
    "    return the ratio for string similarity by\n",
    "    ignoring word order'''\n",
    "    \n",
    "    col1 = row['Expedia']\n",
    "    col2 = row['Booking.com']\n",
    "    \n",
    "    return fuzz.token_sort_ratio(col1, col2)"
   ]
  },
  {
   "cell_type": "markdown",
   "id": "4d1e84d1-bf6b-4927-95e1-0bc4d0572666",
   "metadata": {},
   "source": [
    "TOKEN SET RATIO - Ignore duplicate words similarly to token sort ratio"
   ]
  },
  {
   "cell_type": "code",
   "execution_count": 33,
   "id": "63d9edd7-0fba-449f-9142-e2d56a7ee1dc",
   "metadata": {},
   "outputs": [],
   "source": [
    "def get_token_set_ratio(row):\n",
    "    \n",
    "    '''function to compare the values in each row\n",
    "    for the two columns in the same dataframeand\n",
    "    return the ratio for string similarity by\n",
    "    ignoring duplicate words and word order'''\n",
    "    \n",
    "    col1 = row['Expedia']\n",
    "    col2 = row['Booking.com']\n",
    "    \n",
    "    return fuzz.token_set_ratio(col1, col2)"
   ]
  },
  {
   "cell_type": "markdown",
   "id": "d958edbf-6777-4ef5-a05a-de6eca32800e",
   "metadata": {},
   "source": [
    "TRIGRAM - Calculates a similarity score and find matches by splitting strings into ngrams with a length of 3. The length of the ngram can be altered if desired."
   ]
  },
  {
   "cell_type": "code",
   "execution_count": 34,
   "id": "cf30aa38-05c0-4f30-a8b3-642c9f05ee63",
   "metadata": {},
   "outputs": [],
   "source": [
    "def get_trigram_value(row):\n",
    "    \n",
    "    '''function to compare the values in each row\n",
    "    for the two columns in the same dataframeand\n",
    "    return the ratio for string similarity by\n",
    "    ignoring duplicate words and word order'''\n",
    "    \n",
    "    col1 = row['Expedia']\n",
    "    col2 = row['Booking.com']\n",
    "    \n",
    "    return round(algorithims.trigram(col1, col2), 3)"
   ]
  },
  {
   "cell_type": "code",
   "execution_count": 35,
   "id": "eb009b4a-672b-4f60-8864-c4fc560f3b97",
   "metadata": {},
   "outputs": [
    {
     "data": {
      "text/html": [
       "<div>\n",
       "<style scoped>\n",
       "    .dataframe tbody tr th:only-of-type {\n",
       "        vertical-align: middle;\n",
       "    }\n",
       "\n",
       "    .dataframe tbody tr th {\n",
       "        vertical-align: top;\n",
       "    }\n",
       "\n",
       "    .dataframe thead th {\n",
       "        text-align: right;\n",
       "    }\n",
       "</style>\n",
       "<table border=\"1\" class=\"dataframe\">\n",
       "  <thead>\n",
       "    <tr style=\"text-align: right;\">\n",
       "      <th></th>\n",
       "      <th>Expedia</th>\n",
       "      <th>Booking.com</th>\n",
       "      <th>full_ratio</th>\n",
       "      <th>partial_ratio</th>\n",
       "      <th>token_sort_ratio</th>\n",
       "      <th>token_set_ratio</th>\n",
       "      <th>trigram</th>\n",
       "    </tr>\n",
       "  </thead>\n",
       "  <tbody>\n",
       "    <tr>\n",
       "      <th>0</th>\n",
       "      <td>Deluxe Room, 1 King Bed</td>\n",
       "      <td>Deluxe King Room</td>\n",
       "      <td>62</td>\n",
       "      <td>69</td>\n",
       "      <td>84</td>\n",
       "      <td>100</td>\n",
       "      <td>0.739</td>\n",
       "    </tr>\n",
       "    <tr>\n",
       "      <th>1</th>\n",
       "      <td>Standard Room, 1 King Bed, Accessible</td>\n",
       "      <td>Standard King Roll-in Shower Accessible</td>\n",
       "      <td>68</td>\n",
       "      <td>65</td>\n",
       "      <td>78</td>\n",
       "      <td>81</td>\n",
       "      <td>0.562</td>\n",
       "    </tr>\n",
       "    <tr>\n",
       "      <th>2</th>\n",
       "      <td>Grand Corner King Room, 1 King Bed</td>\n",
       "      <td>Grand Corner King Room</td>\n",
       "      <td>79</td>\n",
       "      <td>100</td>\n",
       "      <td>80</td>\n",
       "      <td>100</td>\n",
       "      <td>0.793</td>\n",
       "    </tr>\n",
       "    <tr>\n",
       "      <th>3</th>\n",
       "      <td>Suite, 1 King Bed (Parlor)</td>\n",
       "      <td>King Parlor Suite</td>\n",
       "      <td>51</td>\n",
       "      <td>65</td>\n",
       "      <td>85</td>\n",
       "      <td>100</td>\n",
       "      <td>0.750</td>\n",
       "    </tr>\n",
       "    <tr>\n",
       "      <th>4</th>\n",
       "      <td>High-Floor Premium Room, 1 King Bed</td>\n",
       "      <td>High-Floor Premium King Room</td>\n",
       "      <td>76</td>\n",
       "      <td>82</td>\n",
       "      <td>90</td>\n",
       "      <td>100</td>\n",
       "      <td>0.829</td>\n",
       "    </tr>\n",
       "  </tbody>\n",
       "</table>\n",
       "</div>"
      ],
      "text/plain": [
       "                                 Expedia  \\\n",
       "0                Deluxe Room, 1 King Bed   \n",
       "1  Standard Room, 1 King Bed, Accessible   \n",
       "2     Grand Corner King Room, 1 King Bed   \n",
       "3             Suite, 1 King Bed (Parlor)   \n",
       "4    High-Floor Premium Room, 1 King Bed   \n",
       "\n",
       "                               Booking.com  full_ratio  partial_ratio  \\\n",
       "0                         Deluxe King Room          62             69   \n",
       "1  Standard King Roll-in Shower Accessible          68             65   \n",
       "2                   Grand Corner King Room          79            100   \n",
       "3                        King Parlor Suite          51             65   \n",
       "4             High-Floor Premium King Room          76             82   \n",
       "\n",
       "   token_sort_ratio  token_set_ratio  trigram  \n",
       "0                84              100    0.739  \n",
       "1                78               81    0.562  \n",
       "2                80              100    0.793  \n",
       "3                85              100    0.750  \n",
       "4                90              100    0.829  "
      ]
     },
     "execution_count": 35,
     "metadata": {},
     "output_type": "execute_result"
    }
   ],
   "source": [
    "data_df['full_ratio'] = data_df.apply(get_ratio, axis=1)\n",
    "data_df['partial_ratio'] = data_df.apply(get_partial_ratio, axis=1)\n",
    "data_df['token_sort_ratio'] = data_df.apply(get_token_sort_ratio, axis=1)\n",
    "data_df['token_set_ratio'] = data_df.apply(get_token_set_ratio, axis=1)\n",
    "data_df['trigram'] = data_df.apply(get_trigram_value, axis=1)\n",
    "data_df.head()"
   ]
  },
  {
   "cell_type": "markdown",
   "id": "00945775-33c8-4310-ae35-60adced3f471",
   "metadata": {},
   "source": [
    "It looks like TOKEN SET RATIO from fuzzywuzzy package is the best method to get the most similar matches in this example."
   ]
  },
  {
   "cell_type": "code",
   "execution_count": null,
   "id": "690c3021-72f1-4290-8843-89fe5af4febc",
   "metadata": {},
   "outputs": [],
   "source": []
  }
 ],
 "metadata": {
  "kernelspec": {
   "display_name": "Python 3",
   "language": "python",
   "name": "python3"
  },
  "language_info": {
   "codemirror_mode": {
    "name": "ipython",
    "version": 3
   },
   "file_extension": ".py",
   "mimetype": "text/x-python",
   "name": "python",
   "nbconvert_exporter": "python",
   "pygments_lexer": "ipython3",
   "version": "3.9.12"
  }
 },
 "nbformat": 4,
 "nbformat_minor": 5
}
